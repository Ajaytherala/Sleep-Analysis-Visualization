{
  "nbformat": 4,
  "nbformat_minor": 0,
  "metadata": {
    "colab": {
      "provenance": []
    },
    "kernelspec": {
      "name": "python3",
      "display_name": "Python 3"
    },
    "language_info": {
      "name": "python"
    }
  },
  "cells": [
    {
      "cell_type": "code",
      "execution_count": null,
      "metadata": {
        "id": "P6Kgmq4lq-7B"
      },
      "outputs": [],
      "source": [
        "!pip install mne\n",
        "!pip install pyedflib"
      ]
    },
    {
      "cell_type": "code",
      "source": [
        "import pyedflib"
      ],
      "metadata": {
        "id": "Wnf-JDFRrEAH"
      },
      "execution_count": 2,
      "outputs": []
    },
    {
      "cell_type": "code",
      "source": [
        "from google.colab import drive\n",
        "drive.mount(\"/content/drive\")"
      ],
      "metadata": {
        "id": "qCm5sbaYrF5f"
      },
      "execution_count": null,
      "outputs": []
    },
    {
      "cell_type": "code",
      "source": [
        "#edit with your edf and rml file paths\n",
        "edf_file_path = \"/content/drive/MyDrive/CSE-578_DV/Sleep Apnea Project/00001000-100507[002].edf\"\n",
        "annot_file_path = \"/content/drive/MyDrive/CSE-578_DV/Sleep Apnea Project/00001000-100507.rml\""
      ],
      "metadata": {
        "id": "kiYhDuy9rIgL"
      },
      "execution_count": 5,
      "outputs": []
    },
    {
      "cell_type": "code",
      "source": [
        "f = pyedflib.EdfReader(edf_file_path)\n",
        "# Get the number of signals (channels)\n",
        "num_signals = f.signals_in_file\n",
        "\n",
        "# Read signals\n",
        "signals = [f.readSignal(i) for i in range(num_signals)]\n",
        "\n",
        "# Get signal labels\n",
        "signal_labels = f.getSignalLabels()\n",
        "\n",
        "print(\"No. of Signals: \",num_signals)\n",
        "print(\"Signal Labels: \",signal_labels)\n",
        "f.close()"
      ],
      "metadata": {
        "id": "KSS7CXMzrREg"
      },
      "execution_count": null,
      "outputs": []
    },
    {
      "cell_type": "code",
      "source": [
        "import os\n",
        "\n",
        "\n",
        "annot_file_path = \"/content/drive/MyDrive/CSE-578_DV/Sleep Apnea Project/00001000-100507.rml\" #replace with rml file path\n",
        "with open(annot_file_path, 'r') as fileID:\n",
        "    strlines = fileID.readlines()\n",
        "\n",
        "strlinesv = [line.split() for line in strlines]\n",
        "\n",
        "family = []\n",
        "family_type = []\n",
        "start = []\n",
        "duration = []\n",
        "segment_files = 0\n",
        "# starting_date = 0\n",
        "# total_duration = 0\n",
        "\n",
        "# print(strlinesv)\n",
        "\n",
        "for temp in strlinesv:\n",
        "    if len(temp) > 1:\n",
        "        if temp[0] == '<Event':\n",
        "            familyv = temp[1].split('=')\n",
        "            family.append(familyv[0].strip('\"'))\n",
        "\n",
        "            family_typev = temp[2].split('=')\n",
        "            family_type.append(family_typev[1].strip('\"'))\n",
        "\n",
        "            startv = temp[3].split('=')\n",
        "            start.append(float(startv[1].strip('\"')))\n",
        "\n",
        "            durationv = temp[4].split('=')\n",
        "            duration.append(float(durationv[1].replace(\">\",\"\").strip('\"')))\n",
        "        else:\n",
        "            if temp[0] == '<Session>':\n",
        "                starting_time_line = strlinesv[strlinesv.index(temp) + 1]\n",
        "                temp_start_time = starting_time_line[0].split('<T>')\n",
        "                starting_date = temp_start_time[1]\n",
        "\n",
        "                total_duration_time = strlinesv[strlinesv.index(temp) + 2]\n",
        "                temp_total_duration = total_duration_time[0].split('</Duration>')\n",
        "                total_duration = float(temp_total_duration[0].split('<Duration>')[0])\n",
        "            else:\n",
        "                if temp[0] == '<Segment>':\n",
        "                    segment_files += 1"
      ],
      "metadata": {
        "id": "ADT6L5DQrRYQ"
      },
      "execution_count": null,
      "outputs": []
    },
    {
      "cell_type": "code",
      "source": [
        "signals_dict = {}\n",
        "events_list = []\n",
        "starts_list = []\n",
        "durations_list = []\n",
        "spo2_list = []\n",
        "pr_list = []\n",
        "for event in [(family_type[idx],start[idx],duration[idx]) for idx in range(1111) if \"pnea\" in family_type[idx]]:\n",
        "  print(event)\n",
        "  edf_file_path = \"/content/drive/MyDrive/CSE-578_DV/Sleep Apnea Project/00001000-100507[00\"+str(int(event[1]//3600)+1)+\"].edf\" #replace with edf file paths, better place all edf files and execute the code\n",
        "  print(\"EDF File To be Examined: \",edf_file_path)\n",
        "  f = pyedflib.EdfReader(edf_file_path)\n",
        "  # Get the number of signals (channels)\n",
        "  num_signals = f.signals_in_file\n",
        "\n",
        "  # Read signals\n",
        "  signals = [f.readSignal(i) for i in range(num_signals)]\n",
        "\n",
        "  # Get signal labels\n",
        "  signal_labels = f.getSignalLabels()\n",
        "\n",
        "  # print(\"No. of Signals: \",num_signals)\n",
        "  # print(\"Signal Labels: \",signal_labels)\n",
        "  f.close()\n",
        "  for index in range(len(signal_labels)):\n",
        "    signals_dict[signal_labels[index]] = index\n",
        "  spo2_index = signals_dict['SpO2']\n",
        "  pulse_index = signals_dict['PulseRate']\n",
        "\n",
        "  start = int(event[1]) - (3600*(int(event[1]//3600)))\n",
        "  end = start+int(event[2])\n",
        "  # print(start,end,sep=\"-->\")\n",
        "  events_list.append(event[0])\n",
        "  starts_list.append(event[1])\n",
        "  durations_list.append(event[2])\n",
        "  # print(\"SPO2 values during \"+str(event[0])+\" are: \",signals[spo2_index][start:start+int(event[2])])\n",
        "  # print(\"Pulse Rate values during \"+str(event[0])+\" are: \",signals[pulse_index][start:start+int(event[2])])\n",
        "  spo2_list.append(signals[spo2_index][start:start+int(event[2])])\n",
        "  pr_list.append(signals[pulse_index][start:start+int(event[2])])\n",
        "\n",
        "\n"
      ],
      "metadata": {
        "id": "vPJBgu0Grxaf"
      },
      "execution_count": null,
      "outputs": []
    },
    {
      "cell_type": "code",
      "source": [
        "signals_info = pd.DataFrame()\n",
        "signals_info[\"Event\"] = events_list\n",
        "signals_info[\"Start\"] = starts_list\n",
        "signals_info[\"Duration\"] = durations_list\n",
        "signals_info[\"Spo2\"] = spo2_list\n",
        "signals_info[\"Pulse Rate\"] = pr_list\n",
        "signals_info[\"Patient_ID\"] = [995]*len(pr_list)\n",
        "\n",
        "signals_info.to_csv(\"signals_info_999.csv\",index=False)"
      ],
      "metadata": {
        "id": "xu3y9s9_r7mP"
      },
      "execution_count": null,
      "outputs": []
    },
    {
      "cell_type": "code",
      "source": [
        "with open(annot_file_path, 'r') as fileID:\n",
        "    strlines = fileID.readlines()\n",
        "\n",
        "strlinesv = [line.split() for line in strlines]\n",
        "\n",
        "family = []\n",
        "family_type = []\n",
        "start = []\n",
        "duration = []\n",
        "segment_files = 0\n",
        "# starting_date = 0\n",
        "# total_duration = 0\n",
        "\n",
        "# print(strlinesv)\n",
        "stages_list = []\n",
        "durations_list = []\n",
        "for temp in strlinesv:\n",
        "  if len(temp) > 1:\n",
        "    if temp[0] == '<Stage':\n",
        "      stages_list.append(temp[1].split(\"=\")[-1].replace('\"',''))\n",
        "      durations_list.append(int(temp[2].split(\"=\")[-1].replace('\"','')))"
      ],
      "metadata": {
        "id": "d5Yz020OsAKe"
      },
      "execution_count": null,
      "outputs": []
    },
    {
      "cell_type": "code",
      "source": [
        "import pandas as pd\n",
        "stages_df = pd.DataFrame()\n",
        "stages_df[\"Stage\"] = stages_list[:-3]\n",
        "stages_df[\"Start\"] = durations_list[:-3]\n",
        "stages_df[\"Patient_ID\"] = [995]*len(stages_list[:-3])\n",
        "stages_df.to_csv(\"stage_data_999.csv\",index=False)"
      ],
      "metadata": {
        "id": "dmN9BpBRsAzn"
      },
      "execution_count": null,
      "outputs": []
    }
  ]
}